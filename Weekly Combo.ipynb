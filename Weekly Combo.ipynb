{
 "cells": [
  {
   "cell_type": "code",
   "execution_count": 1,
   "metadata": {},
   "outputs": [],
   "source": [
    "## Weekly Report Script by Shean Mobed\n",
    "#Imports\n",
    "import pandas as pd\n",
    "import numpy as np\n",
    "from glob import glob\n",
    "import os\n",
    "import re"
   ]
  },
  {
   "cell_type": "code",
   "execution_count": 2,
   "metadata": {},
   "outputs": [],
   "source": [
    "## Combo Summary Report\n",
    "#Summary Table\n",
    "combos = sorted(glob('Weekly Report/*combo*.csv'))\n",
    "csdf = pd.concat((pd.read_csv(f, index_col = ['Combo']) \n",
    "                for f in combos), axis = 1)\n",
    "\n",
    "#Total sum per row: \n",
    "csdf['Total'] = csdf.sum(axis=1)\n",
    "total = 'Total'\n",
    "totalcol = csdf.pop(total)\n",
    "csdf.insert(0,total,totalcol)\n",
    "\n",
    "#Custom Index\n",
    "ComboIndex = ['Total','N501Y','E484K','E484K+N501Y',\n",
    "              'K417N','E484K+K417N','K417N+N501Y','E484K+K417N+N501Y',\n",
    "              'K417T','E484K+K417T+N501Y','P681R']\n",
    "csdf = csdf.reindex(ComboIndex)\n",
    "csdf = csdf.fillna(0).astype(int)\n",
    "\n",
    "#automatic file name 2\n",
    "outfilepath5 = 'Weekly Report/'\n",
    "\n",
    "labid = 'GLS'\n",
    "\n",
    "date = '27SEP'\n",
    "\n",
    "spacer = '_'\n",
    "\n",
    "endcard8 = 'weekly_combination_report_' + date + '.csv'\n",
    "\n",
    "outfilename10 = labid + spacer + endcard8\n",
    "\n",
    "csdf.to_csv(outfilepath5 + outfilename10, index=True)"
   ]
  }
 ],
 "metadata": {
  "kernelspec": {
   "display_name": "Python 3",
   "language": "python",
   "name": "python3"
  },
  "language_info": {
   "codemirror_mode": {
    "name": "ipython",
    "version": 3
   },
   "file_extension": ".py",
   "mimetype": "text/x-python",
   "name": "python",
   "nbconvert_exporter": "python",
   "pygments_lexer": "ipython3",
   "version": "3.8.5"
  }
 },
 "nbformat": 4,
 "nbformat_minor": 4
}
