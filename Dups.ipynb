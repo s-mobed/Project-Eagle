{
 "cells": [
  {
   "cell_type": "code",
   "execution_count": 1,
   "metadata": {},
   "outputs": [
    {
     "name": "stdout",
     "output_type": "stream",
     "text": [
      "GLS-GP-004274\n",
      "2021-08-28 10_16_48 AM BST\n",
      "2021-08-28\n",
      "202108281016\n"
     ]
    }
   ],
   "source": [
    "## Project Eagle Script by Shean Mobed\n",
    "#Imports\n",
    "import pandas as pd\n",
    "import numpy as np\n",
    "from glob import glob\n",
    "import os\n",
    "import re\n",
    "\n",
    "\n",
    "#MultiFile\n",
    "multifile = sorted(glob('Multifile/*_Genotyping Result_*.csv'))\n",
    "multifile\n",
    "\n",
    "#Concat Files with same cols\n",
    "df = pd.concat((pd.read_csv(file, comment = '#').assign(filename = file)\n",
    "          for file in multifile), ignore_index=True)\n",
    "#Date Extraction\n",
    "File1 = df.filename.get(0)\n",
    "with open (File1) as GenotypingResults:\n",
    "    for line in GenotypingResults:\n",
    "        if line[0:13] == '# Exported On': \n",
    "            date = line[15:47].replace(':','_').replace('\\n','')\n",
    "            \n",
    "date2 = date[:10]\n",
    "\n",
    "date3 = date[:17].replace('-','').replace(' ','').replace('_','')\n",
    "\n",
    "#File name\n",
    "basename = os.path.splitext(os.path.basename(File1))[0]\n",
    "eagle = basename.split('_')[0]\n",
    "print(eagle)\n",
    "print(date)\n",
    "print(date2)\n",
    "print(date3)"
   ]
  },
  {
   "cell_type": "code",
   "execution_count": 2,
   "metadata": {},
   "outputs": [],
   "source": [
    "##Mutaion Caller\n",
    "#Simplify Table\n",
    "df = df[['Sample','Call','SNP Assay','Confidence']]\n",
    "\n",
    "#Sample0\n",
    "\n",
    "sample0 = df[(df['Sample'] == '0') | \n",
    "             (df['Sample'] == 'PosCon') | \n",
    "             (df['Sample'] == 'NTC') | \n",
    "             (df['Sample'] == 'PHE') |\n",
    "             (df['Sample'] == 'Empty')\n",
    "            ]\n",
    "\n",
    "\n",
    "df = df.drop(sample0.index)\n",
    "\n",
    "\n",
    "#Blank Sample\n",
    "df['Sample'].replace('',np.nan, inplace = True)\n",
    "df.dropna(subset = ['Sample'], inplace = True)\n",
    "\n",
    "#Rename Cols\n",
    "df.rename(columns={'SNP Assay': 'CH1-Target',\n",
    "         'Call': 'CH1-Result',\n",
    "          'Confidence': 'CH1-Conf'},\n",
    "         inplace=True)\n",
    "#Unknown\n",
    "unknown = df.loc[df.Sample.str.contains(\"Unknown\",case=False)]\n",
    "df = df.drop(unknown.index)"
   ]
  },
  {
   "cell_type": "code",
   "execution_count": 29,
   "metadata": {},
   "outputs": [
    {
     "name": "stdout",
     "output_type": "stream",
     "text": [
      "No duplicate barcodes :)\n",
      "No error found in SNP assay column\n"
     ]
    }
   ],
   "source": [
    "## Duplicates Troubleshooter\n",
    "\n",
    "#Duplicate Barcodes error Raise\n",
    "bcdups = df.groupby(['Sample']).size() > 4\n",
    "bcdups = pd.DataFrame(bcdups)\n",
    "bcdups = bcdups.reset_index()\n",
    "bcdups = bcdups.rename(columns = { 0:'Bool'})\n",
    "bcdups = bcdups[(bcdups['Bool']==True)]\n",
    "bcdups = bcdups.loc[bcdups.Bool == True]\n",
    "\n",
    "#print(bcdups.Sample.count())\n",
    "bcdups.to_csv('dups.csv')\n",
    "\n",
    "try:\n",
    "    if bcdups['Sample'].count() > 0 :\n",
    "        raise Exception\n",
    "except Exception:\n",
    "    print(\"Check for duplicate barcodes in files!, duplicates can be found in dups.csv\")\n",
    "else: print('No duplicate barcodes :)')\n",
    "\n",
    "#SNP assay column duplicates error Raise\n",
    "\n",
    "snpdups = df.groupby(['CH1-Target']).size()\n",
    "snpdups = pd.DataFrame(snpdups)\n",
    "snpdups = snpdups.reset_index()\n",
    "snpdups = snpdups.rename(columns = { 0:'Count'})\n",
    "samplecount = df.index.size / 4\n",
    "\n",
    "try:\n",
    "    if snpdups['Count'][0] > samplecount :\n",
    "        raise Exception\n",
    "except Exception:\n",
    "    print(\"Check for error in SNP assay column in the files!\")\n",
    "else: print('No error found in SNP assay column')"
   ]
  }
 ],
 "metadata": {
  "kernelspec": {
   "display_name": "Python 3",
   "language": "python",
   "name": "python3"
  },
  "language_info": {
   "codemirror_mode": {
    "name": "ipython",
    "version": 3
   },
   "file_extension": ".py",
   "mimetype": "text/x-python",
   "name": "python",
   "nbconvert_exporter": "python",
   "pygments_lexer": "ipython3",
   "version": "3.8.5"
  }
 },
 "nbformat": 4,
 "nbformat_minor": 4
}
